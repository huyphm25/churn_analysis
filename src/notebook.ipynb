{
 "cells": [
  {
   "cell_type": "code",
   "execution_count": null,
   "id": "441bf35b",
   "metadata": {},
   "outputs": [],
   "source": [
    "import pandas as pd\n",
    "import numpy as np\n",
    "import matplotlib.pyplot as plt\n",
    "import seaborn as sns\n",
    "\n",
    "from sklearn.model_selection import train_test_split\n",
    "from sklearn.preprocessing import StandardScaler , LabelEncoder\n",
    "from sklearn.svm import SVC\n",
    "\n",
    "from sklearn.linear_model import LogisticRegression\n",
    "from sklearn.ensemble import RandomForestClassifier\n",
    "from xgboost import XGBClassifier\n",
    "\n",
    "from sklearn.metrics import accuracy_score, precision_score, recall_score, f1_score, roc_auc_score , confusion_matrix , classification_report\n",
    "from sklearn.model_selection import GridSearchCV, cross_validate"
   ]
  },
  {
   "cell_type": "code",
   "execution_count": 2,
   "id": "27c0e7e2",
   "metadata": {},
   "outputs": [
    {
     "data": {
      "text/html": [
       "<div>\n",
       "<style scoped>\n",
       "    .dataframe tbody tr th:only-of-type {\n",
       "        vertical-align: middle;\n",
       "    }\n",
       "\n",
       "    .dataframe tbody tr th {\n",
       "        vertical-align: top;\n",
       "    }\n",
       "\n",
       "    .dataframe thead th {\n",
       "        text-align: right;\n",
       "    }\n",
       "</style>\n",
       "<table border=\"1\" class=\"dataframe\">\n",
       "  <thead>\n",
       "    <tr style=\"text-align: right;\">\n",
       "      <th></th>\n",
       "      <th>CustomerID</th>\n",
       "      <th>Churn</th>\n",
       "      <th>Tenure</th>\n",
       "      <th>PreferredLoginDevice</th>\n",
       "      <th>CityTier</th>\n",
       "      <th>WarehouseToHome</th>\n",
       "      <th>PreferredPaymentMode</th>\n",
       "      <th>Gender</th>\n",
       "      <th>HourSpendOnApp</th>\n",
       "      <th>NumberOfDeviceRegistered</th>\n",
       "      <th>PreferedOrderCat</th>\n",
       "      <th>SatisfactionScore</th>\n",
       "      <th>MaritalStatus</th>\n",
       "      <th>NumberOfAddress</th>\n",
       "      <th>Complain</th>\n",
       "      <th>OrderAmountHikeFromlastYear</th>\n",
       "      <th>CouponUsed</th>\n",
       "      <th>OrderCount</th>\n",
       "      <th>DaySinceLastOrder</th>\n",
       "      <th>CashbackAmount</th>\n",
       "    </tr>\n",
       "  </thead>\n",
       "  <tbody>\n",
       "    <tr>\n",
       "      <th>0</th>\n",
       "      <td>50001</td>\n",
       "      <td>1</td>\n",
       "      <td>4.0</td>\n",
       "      <td>Mobile Phone</td>\n",
       "      <td>3</td>\n",
       "      <td>6.0</td>\n",
       "      <td>Debit Card</td>\n",
       "      <td>Female</td>\n",
       "      <td>3.0</td>\n",
       "      <td>3</td>\n",
       "      <td>Laptop &amp; Accessory</td>\n",
       "      <td>2</td>\n",
       "      <td>Single</td>\n",
       "      <td>9</td>\n",
       "      <td>1</td>\n",
       "      <td>11.0</td>\n",
       "      <td>1.0</td>\n",
       "      <td>1.0</td>\n",
       "      <td>5.0</td>\n",
       "      <td>159.93</td>\n",
       "    </tr>\n",
       "    <tr>\n",
       "      <th>1</th>\n",
       "      <td>50002</td>\n",
       "      <td>1</td>\n",
       "      <td>NaN</td>\n",
       "      <td>Phone</td>\n",
       "      <td>1</td>\n",
       "      <td>8.0</td>\n",
       "      <td>UPI</td>\n",
       "      <td>Male</td>\n",
       "      <td>3.0</td>\n",
       "      <td>4</td>\n",
       "      <td>Mobile</td>\n",
       "      <td>3</td>\n",
       "      <td>Single</td>\n",
       "      <td>7</td>\n",
       "      <td>1</td>\n",
       "      <td>15.0</td>\n",
       "      <td>0.0</td>\n",
       "      <td>1.0</td>\n",
       "      <td>0.0</td>\n",
       "      <td>120.90</td>\n",
       "    </tr>\n",
       "    <tr>\n",
       "      <th>2</th>\n",
       "      <td>50003</td>\n",
       "      <td>1</td>\n",
       "      <td>NaN</td>\n",
       "      <td>Phone</td>\n",
       "      <td>1</td>\n",
       "      <td>30.0</td>\n",
       "      <td>Debit Card</td>\n",
       "      <td>Male</td>\n",
       "      <td>2.0</td>\n",
       "      <td>4</td>\n",
       "      <td>Mobile</td>\n",
       "      <td>3</td>\n",
       "      <td>Single</td>\n",
       "      <td>6</td>\n",
       "      <td>1</td>\n",
       "      <td>14.0</td>\n",
       "      <td>0.0</td>\n",
       "      <td>1.0</td>\n",
       "      <td>3.0</td>\n",
       "      <td>120.28</td>\n",
       "    </tr>\n",
       "    <tr>\n",
       "      <th>3</th>\n",
       "      <td>50004</td>\n",
       "      <td>1</td>\n",
       "      <td>0.0</td>\n",
       "      <td>Phone</td>\n",
       "      <td>3</td>\n",
       "      <td>15.0</td>\n",
       "      <td>Debit Card</td>\n",
       "      <td>Male</td>\n",
       "      <td>2.0</td>\n",
       "      <td>4</td>\n",
       "      <td>Laptop &amp; Accessory</td>\n",
       "      <td>5</td>\n",
       "      <td>Single</td>\n",
       "      <td>8</td>\n",
       "      <td>0</td>\n",
       "      <td>23.0</td>\n",
       "      <td>0.0</td>\n",
       "      <td>1.0</td>\n",
       "      <td>3.0</td>\n",
       "      <td>134.07</td>\n",
       "    </tr>\n",
       "    <tr>\n",
       "      <th>4</th>\n",
       "      <td>50005</td>\n",
       "      <td>1</td>\n",
       "      <td>0.0</td>\n",
       "      <td>Phone</td>\n",
       "      <td>1</td>\n",
       "      <td>12.0</td>\n",
       "      <td>CC</td>\n",
       "      <td>Male</td>\n",
       "      <td>NaN</td>\n",
       "      <td>3</td>\n",
       "      <td>Mobile</td>\n",
       "      <td>5</td>\n",
       "      <td>Single</td>\n",
       "      <td>3</td>\n",
       "      <td>0</td>\n",
       "      <td>11.0</td>\n",
       "      <td>1.0</td>\n",
       "      <td>1.0</td>\n",
       "      <td>3.0</td>\n",
       "      <td>129.60</td>\n",
       "    </tr>\n",
       "  </tbody>\n",
       "</table>\n",
       "</div>"
      ],
      "text/plain": [
       "   CustomerID  Churn  Tenure PreferredLoginDevice  CityTier  WarehouseToHome  \\\n",
       "0       50001      1     4.0         Mobile Phone         3              6.0   \n",
       "1       50002      1     NaN                Phone         1              8.0   \n",
       "2       50003      1     NaN                Phone         1             30.0   \n",
       "3       50004      1     0.0                Phone         3             15.0   \n",
       "4       50005      1     0.0                Phone         1             12.0   \n",
       "\n",
       "  PreferredPaymentMode  Gender  HourSpendOnApp  NumberOfDeviceRegistered  \\\n",
       "0           Debit Card  Female             3.0                         3   \n",
       "1                  UPI    Male             3.0                         4   \n",
       "2           Debit Card    Male             2.0                         4   \n",
       "3           Debit Card    Male             2.0                         4   \n",
       "4                   CC    Male             NaN                         3   \n",
       "\n",
       "     PreferedOrderCat  SatisfactionScore MaritalStatus  NumberOfAddress  \\\n",
       "0  Laptop & Accessory                  2        Single                9   \n",
       "1              Mobile                  3        Single                7   \n",
       "2              Mobile                  3        Single                6   \n",
       "3  Laptop & Accessory                  5        Single                8   \n",
       "4              Mobile                  5        Single                3   \n",
       "\n",
       "   Complain  OrderAmountHikeFromlastYear  CouponUsed  OrderCount  \\\n",
       "0         1                         11.0         1.0         1.0   \n",
       "1         1                         15.0         0.0         1.0   \n",
       "2         1                         14.0         0.0         1.0   \n",
       "3         0                         23.0         0.0         1.0   \n",
       "4         0                         11.0         1.0         1.0   \n",
       "\n",
       "   DaySinceLastOrder  CashbackAmount  \n",
       "0                5.0          159.93  \n",
       "1                0.0          120.90  \n",
       "2                3.0          120.28  \n",
       "3                3.0          134.07  \n",
       "4                3.0          129.60  "
      ]
     },
     "execution_count": 2,
     "metadata": {},
     "output_type": "execute_result"
    }
   ],
   "source": [
    "df = pd.read_excel('E Commerce Dataset.xlsx', sheet_name='E Comm')\n",
    "df.head()"
   ]
  },
  {
   "cell_type": "code",
   "execution_count": 3,
   "id": "a499191b",
   "metadata": {},
   "outputs": [
    {
     "name": "stdout",
     "output_type": "stream",
     "text": [
      "Duplicated values are:  0\n",
      "Null values are:  CustomerID                       0\n",
      "Churn                            0\n",
      "Tenure                         264\n",
      "PreferredLoginDevice             0\n",
      "CityTier                         0\n",
      "WarehouseToHome                251\n",
      "PreferredPaymentMode             0\n",
      "Gender                           0\n",
      "HourSpendOnApp                 255\n",
      "NumberOfDeviceRegistered         0\n",
      "PreferedOrderCat                 0\n",
      "SatisfactionScore                0\n",
      "MaritalStatus                    0\n",
      "NumberOfAddress                  0\n",
      "Complain                         0\n",
      "OrderAmountHikeFromlastYear    265\n",
      "CouponUsed                     256\n",
      "OrderCount                     258\n",
      "DaySinceLastOrder              307\n",
      "CashbackAmount                   0\n",
      "dtype: int64\n",
      "Unique values are:  CustomerID                     5630\n",
      "Churn                             2\n",
      "Tenure                           36\n",
      "PreferredLoginDevice              2\n",
      "CityTier                          3\n",
      "WarehouseToHome                  34\n",
      "PreferredPaymentMode              5\n",
      "Gender                            2\n",
      "HourSpendOnApp                    6\n",
      "NumberOfDeviceRegistered          6\n",
      "PreferedOrderCat                  5\n",
      "SatisfactionScore                 5\n",
      "MaritalStatus                     3\n",
      "NumberOfAddress                  15\n",
      "Complain                          2\n",
      "OrderAmountHikeFromlastYear      16\n",
      "CouponUsed                       17\n",
      "OrderCount                       16\n",
      "DaySinceLastOrder                22\n",
      "CashbackAmount                 2586\n",
      "dtype: int64\n"
     ]
    },
    {
     "name": "stderr",
     "output_type": "stream",
     "text": [
      "C:\\Users\\USER\\AppData\\Local\\Temp\\ipykernel_15908\\4288103046.py:30: FutureWarning: Series.fillna with 'method' is deprecated and will raise in a future version. Use obj.ffill() or obj.bfill() instead.\n",
      "  df['Tenure'] = df['Tenure'].fillna(method = 'bfill')\n",
      "C:\\Users\\USER\\AppData\\Local\\Temp\\ipykernel_15908\\4288103046.py:38: FutureWarning: Series.fillna with 'method' is deprecated and will raise in a future version. Use obj.ffill() or obj.bfill() instead.\n",
      "  df['OrderAmountHikeFromlastYear'] = df['OrderAmountHikeFromlastYear'].fillna(method = 'ffill')\n",
      "C:\\Users\\USER\\AppData\\Local\\Temp\\ipykernel_15908\\4288103046.py:47: FutureWarning: Series.fillna with 'method' is deprecated and will raise in a future version. Use obj.ffill() or obj.bfill() instead.\n",
      "  df['DaySinceLastOrder'] = df['DaySinceLastOrder'].fillna(method = 'bfill')\n"
     ]
    }
   ],
   "source": [
    "# Data preprocessing\n",
    "#As mobile phone and phone are both same so we have merged them\n",
    "df.loc[df['PreferredLoginDevice'] == 'Phone', 'PreferredLoginDevice' ] = 'Mobile Phone'\n",
    "df.loc[df['PreferedOrderCat'] == 'Mobile', 'PreferedOrderCat' ] = 'Mobile Phone'\n",
    "\n",
    "#as cod is also cash on delievery\n",
    "#as cc is also credit card so i merged them\n",
    "df.loc[df['PreferredPaymentMode'] == 'COD', 'PreferredPaymentMode' ] = 'Cash on Delivery'   # uses loc function\n",
    "df.loc[df['PreferredPaymentMode'] == 'CC', 'PreferredPaymentMode' ] = 'Credit Card'\n",
    "\n",
    "# convert num_cols to categories\n",
    "df2 = df.copy()\n",
    "for col in df2.columns:\n",
    "  if col == 'CustomerID':\n",
    "    continue\n",
    "\n",
    "  else:\n",
    "    if df2[col].dtype == 'int':\n",
    "      df2[col] = df[col].astype(str)\n",
    "\n",
    "print(\"Duplicated values are: \", df.duplicated().sum())\n",
    "print(\"Null values are: \", df.isnull().sum())\n",
    "print(\"Unique values are: \", df.nunique())\n",
    "\n",
    "# Data cleaning\n",
    "round((df.isnull().sum()*100 / df.shape[0]),2)\n",
    "\n",
    "# All Missing values less than 6% so we can impute them\n",
    "# impute with bfill Method\n",
    "df['Tenure'] = df['Tenure'].fillna(method = 'bfill')\n",
    "\n",
    "from sklearn.impute import SimpleImputer\n",
    "s_imp = SimpleImputer(missing_values=np.nan , strategy = 'most_frequent')\n",
    "df['WarehouseToHome'] = s_imp.fit_transform(pd.DataFrame(df['WarehouseToHome']))\n",
    "fill_list = df['HourSpendOnApp'].dropna()\n",
    "df['HourSpendOnApp'] = df['HourSpendOnApp'].fillna(pd.Series(np.random.choice(fill_list , size = len(df['HourSpendOnApp'].index))))\n",
    "# impute with ffill method\n",
    "df['OrderAmountHikeFromlastYear'] = df['OrderAmountHikeFromlastYear'].fillna(method = 'ffill')\n",
    "# Impute with KNN Imputer\n",
    "from sklearn.impute import KNNImputer\n",
    "imputer = KNNImputer(n_neighbors=2)\n",
    "df['CouponUsed']=imputer.fit_transform(df[['CouponUsed']])\n",
    "# Impute with KNN imputer\n",
    "imputer_2 = KNNImputer(n_neighbors=2)\n",
    "df['OrderCount']=imputer_2.fit_transform(df[['OrderCount']])\n",
    "# impute with bfill Method\n",
    "df['DaySinceLastOrder'] = df['DaySinceLastOrder'].fillna(method = 'bfill')\n",
    "# After we Checked the data the Customer ID Column not important for our Models so We drop it\n",
    "df.drop('CustomerID' , axis = 1 , inplace = True)\n"
   ]
  },
  {
   "cell_type": "code",
   "execution_count": 4,
   "id": "02a57893",
   "metadata": {},
   "outputs": [],
   "source": [
    "# Encoding \n",
    "le = LabelEncoder()\n",
    "# Encode for cat_cols\n",
    "for i in df.columns:\n",
    "  if df[i].dtype == 'object':\n",
    "    df[i] = le.fit_transform(df[i])"
   ]
  },
  {
   "cell_type": "code",
   "execution_count": 5,
   "id": "ae5d1094",
   "metadata": {},
   "outputs": [
    {
     "name": "stderr",
     "output_type": "stream",
     "text": [
      "C:\\Users\\USER\\AppData\\Local\\Temp\\ipykernel_15908\\1998088936.py:5: FutureWarning: \n",
      "\n",
      "Passing `palette` without assigning `hue` is deprecated and will be removed in v0.14.0. Assign the `y` variable to `hue` and set `legend=False` for the same effect.\n",
      "\n",
      "  sns.barplot(x = churn_corr_vector , y = churn_corr_vector.index , palette = 'coolwarm')\n"
     ]
    },
    {
     "data": {
      "text/plain": [
       "Text(0.5, 1.0, 'Relation Between Features and target')"
      ]
     },
     "execution_count": 5,
     "metadata": {},
     "output_type": "execute_result"
    },
    {
     "data": {
      "image/png": "[encoded data removed]",
      "text/plain": [
       "<Figure size 1000x1000 with 1 Axes>"
      ]
     },
     "metadata": {},
     "output_type": "display_data"
    }
   ],
   "source": [
    "# Visualize relation between features\n",
    "corr_matrix = df.corr()\n",
    "churn_corr_vector = corr_matrix['Churn'].sort_values(ascending = False)\n",
    "plt.figure(figsize = (10,10))\n",
    "sns.barplot(x = churn_corr_vector , y = churn_corr_vector.index , palette = 'coolwarm')\n",
    "plt.title('Relation Between Features and target')"
   ]
  },
  {
   "cell_type": "code",
   "execution_count": 6,
   "id": "288b718d",
   "metadata": {},
   "outputs": [
    {
     "name": "stdout",
     "output_type": "stream",
     "text": [
      "(9364, 18) (9364,)\n"
     ]
    }
   ],
   "source": [
    "# Handle imbalanced data \n",
    "X = df.drop('Churn' , axis = 1)\n",
    "Y = df['Churn']\n",
    "from imblearn.combine import SMOTETomek\n",
    "smt = SMOTETomek(random_state=42)\n",
    "x_over , y_over = smt.fit_resample(X , Y)\n",
    "print(x_over.shape, y_over.shape)"
   ]
  },
  {
   "cell_type": "code",
   "execution_count": 7,
   "id": "fb6377d5",
   "metadata": {},
   "outputs": [],
   "source": [
    "#Split data \n",
    "x_train , x_test , y_train , y_test = train_test_split(x_over , y_over , test_size = 0.30 , random_state = 42)\n",
    "# Now we  will make normalization for all data to make them in commom range\n",
    "from sklearn.preprocessing import MinMaxScaler , StandardScaler , RobustScaler\n",
    "\n",
    "MN = MinMaxScaler()\n",
    "# SC = StandardScaler()\n",
    "# Rb = RobustScaler()\n",
    "x_train_scaled = MN.fit_transform(x_train)\n",
    "x_test_scaled = MN.fit_transform(x_test)"
   ]
  },
  {
   "cell_type": "code",
   "execution_count": 8,
   "id": "cfa7e339",
   "metadata": {},
   "outputs": [
    {
     "name": "stdout",
     "output_type": "stream",
     "text": [
      "Using model XGBClassifier\n",
      "Trainning Score: 1.0\n",
      "Test Score: 0.8451957295373665\n",
      "Acc Train: 1.0\n",
      "Acc Test: 0.8451957295373665\n"
     ]
    }
   ],
   "source": [
    "# Modeling\n",
    "import warnings\n",
    "warnings.filterwarnings(\"ignore\")\n",
    "\n",
    "XGBoost_Classifier = XGBClassifier()\n",
    "XGBoost_Classifier.fit(x_train_scaled,y_train)\n",
    "\n",
    "train_acc_list = []\n",
    "test_acc_list = []\n",
    "y_pred_train = XGBoost_Classifier.predict(x_train_scaled)\n",
    "y_pred_test = XGBoost_Classifier.predict(x_test_scaled)\n",
    "print(f'Using model XGBClassifier')\n",
    "print(f'Trainning Score: {XGBoost_Classifier.score(x_train_scaled, y_train)}')\n",
    "print(f'Test Score: {XGBoost_Classifier.score(x_test_scaled, y_test)}')\n",
    "print(f'Acc Train: {accuracy_score(y_train, y_pred_train)}')\n",
    "print(f'Acc Test: {accuracy_score(y_test, y_pred_test)}')\n",
    "train_acc_list.append(accuracy_score(y_train, y_pred_train))\n",
    "test_acc_list.append(accuracy_score(y_test, y_pred_test))"
   ]
  },
  {
   "cell_type": "code",
   "execution_count": 9,
   "id": "b8be1791",
   "metadata": {},
   "outputs": [
    {
     "data": {
      "text/html": [
       "<div>\n",
       "<style scoped>\n",
       "    .dataframe tbody tr th:only-of-type {\n",
       "        vertical-align: middle;\n",
       "    }\n",
       "\n",
       "    .dataframe tbody tr th {\n",
       "        vertical-align: top;\n",
       "    }\n",
       "\n",
       "    .dataframe thead th {\n",
       "        text-align: right;\n",
       "    }\n",
       "</style>\n",
       "<table border=\"1\" class=\"dataframe\">\n",
       "  <thead>\n",
       "    <tr style=\"text-align: right;\">\n",
       "      <th></th>\n",
       "      <th>Train_Accuarcy</th>\n",
       "      <th>Test_Accuarcy</th>\n",
       "    </tr>\n",
       "  </thead>\n",
       "  <tbody>\n",
       "    <tr>\n",
       "      <th>0</th>\n",
       "      <td>1.0</td>\n",
       "      <td>0.845196</td>\n",
       "    </tr>\n",
       "  </tbody>\n",
       "</table>\n",
       "</div>"
      ],
      "text/plain": [
       "   Train_Accuarcy  Test_Accuarcy\n",
       "0             1.0       0.845196"
      ]
     },
     "execution_count": 9,
     "metadata": {},
     "output_type": "execute_result"
    }
   ],
   "source": [
    "# Check accuracy training\n",
    "all_models = pd.DataFrame({'Train_Accuarcy': train_acc_list , 'Test_Accuarcy' : test_acc_list})\n",
    "all_models"
   ]
  },
  {
   "cell_type": "code",
   "execution_count": 10,
   "id": "a829da41",
   "metadata": {},
   "outputs": [
    {
     "name": "stdout",
     "output_type": "stream",
     "text": [
      "Accuracy = 0.8451957295373665\n",
      "ROC Area under Curve = 0.8448266953190184\n",
      "              precision    recall  f1-score   support\n",
      "\n",
      "           0    0.96532   0.71520   0.82165      1401\n",
      "           1    0.77483   0.97445   0.86325      1409\n",
      "\n",
      "    accuracy                        0.84520      2810\n",
      "   macro avg    0.87007   0.84483   0.84245      2810\n",
      "weighted avg    0.86980   0.84520   0.84251      2810\n",
      "\n"
     ]
    },
    {
     "data": {
      "text/plain": [
       "<sklearn.metrics._plot.roc_curve.RocCurveDisplay at 0x2aacbb68d10>"
      ]
     },
     "execution_count": 10,
     "metadata": {},
     "output_type": "execute_result"
    },
    {
     "data": {
      "image/png": "[encoded data removed]",
      "text/plain": [
       "<Figure size 640x480 with 1 Axes>"
      ]
     },
     "metadata": {},
     "output_type": "display_data"
    },
    {
     "data": {
      "image/png": "[encoded data removed]",
      "text/plain": [
       "<Figure size 640x480 with 1 Axes>"
      ]
     },
     "metadata": {},
     "output_type": "display_data"
    }
   ],
   "source": [
    "from mlxtend.plotting import plot_confusion_matrix\n",
    "from sklearn.metrics import accuracy_score, roc_auc_score, classification_report, RocCurveDisplay\n",
    "\n",
    "# Evaluate model\n",
    "model=XGBClassifier()\n",
    "model.fit(x_train_scaled,y_train)\n",
    "y_pred = model.predict(x_test_scaled)\n",
    "accuracy = accuracy_score(y_test, y_pred)\n",
    "roc_auc5 = roc_auc_score(y_test, y_pred)\n",
    "print(\"Accuracy = {}\".format(accuracy))\n",
    "print(\"ROC Area under Curve = {}\".format(roc_auc5))\n",
    "print(classification_report(y_test,y_pred,digits=5))\n",
    "plot_confusion_matrix(confusion_matrix(y_test , y_pred))\n",
    "RocCurveDisplay.from_estimator(model , x_test_scaled , y_test)"
   ]
  },
  {
   "cell_type": "code",
   "execution_count": null,
   "id": "e683bd5a",
   "metadata": {},
   "outputs": [],
   "source": [
    "# Laucnh MLFlow server command \n",
    "# mlflow server --host 127.0.0.1 --port 8080"
   ]
  },
  {
   "cell_type": "markdown",
   "id": "0d3a56a9",
   "metadata": {},
   "source": [
    "Do this only if no model in \"ml\" like folders"
   ]
  },
  {
   "cell_type": "code",
   "execution_count": null,
   "id": "6a1e7dd2",
   "metadata": {},
   "outputs": [
    {
     "name": "stderr",
     "output_type": "stream",
     "text": [
      "2025/07/20 16:12:10 INFO mlflow.tracking.fluent: Experiment with name 'MLflow Project Management' does not exist. Creating a new experiment.\n",
      "2025/07/20 16:12:11 WARNING mlflow.models.model: `artifact_path` is deprecated. Please use `name` instead.\n",
      "Successfully registered model 'Churn-XGBClassifier'.\n",
      "2025/07/20 16:12:16 INFO mlflow.store.model_registry.abstract_store: Waiting up to 300 seconds for model version to finish creation. Model name: Churn-XGBClassifier, version 1\n",
      "Created version '1' of model 'Churn-XGBClassifier'.\n"
     ]
    },
    {
     "name": "stdout",
     "output_type": "stream",
     "text": [
      "🏃 View run angry-cub-481 at: http://127.0.0.1:8080/#/experiments/502767127835434973/runs/e615a0353cb2450b86fa83842799a95a\n",
      "🧪 View experiment at: http://127.0.0.1:8080/#/experiments/502767127835434973\n"
     ]
    }
   ],
   "source": [
    "import mlflow\n",
    "from mlflow.models.signature import infer_signature\n",
    "\n",
    "# Set our tracking server uri for logging\n",
    "mlflow.set_tracking_uri(uri=\"http://127.0.0.1:8080\")\n",
    "\n",
    "# Create a new MLflow Experiment\n",
    "mlflow.set_experiment(\"MLflow Project Management\")\n",
    "\n",
    "# Start an MLflow run\n",
    "with mlflow.start_run():\n",
    "    # 1. Log model hyperparameters\n",
    "    mlflow.log_params(model.get_params())\n",
    "\n",
    "    # 2. Log evaluation metrics\n",
    "    mlflow.log_metric(\"accuracy\", accuracy)\n",
    "    mlflow.log_metric(\"roc_auc\", roc_auc5)\n",
    "    mlflow.log_metric(\"precision\", precision_score(y_test, y_pred))\n",
    "    mlflow.log_metric(\"recall\", recall_score(y_test, y_pred))\n",
    "    mlflow.log_metric(\"f1_score\", f1_score(y_test, y_pred))\n",
    "\n",
    "    # 3. Infer model signature for correct input/output schema\n",
    "    signature = infer_signature(x_train_scaled, model.predict(x_train_scaled))\n",
    "\n",
    "    # 4. Log the XGBoost model\n",
    "    mlflow.sklearn.log_model(\n",
    "        sk_model=model,\n",
    "        artifact_path=\"xgb_classifier_model\",\n",
    "        signature=signature,\n",
    "        input_example=x_train_scaled[:5],  # 5 rows example\n",
    "        registered_model_name=\"Churn-XGBClassifier\"\n",
    "    )\n",
    "\n",
    "    # 5. Log confusion matrix as artifact (image)\n",
    "    import matplotlib.pyplot as plt\n",
    "    from sklearn.metrics import ConfusionMatrixDisplay\n",
    "\n",
    "    fig, ax = plt.subplots()\n",
    "    ConfusionMatrixDisplay.from_estimator(model, x_test_scaled, y_test, ax=ax)\n",
    "    plt.title(\"Confusion Matrix\")\n",
    "    plt.savefig(\"confusion_matrix.png\")\n",
    "    plt.close(fig)\n",
    "    mlflow.log_artifact(\"confusion_matrix.png\")\n",
    "\n",
    "    # 6. Optional: Log ROC curve as artifact\n",
    "    import sklearn\n",
    "    fig_roc, ax_roc = plt.subplots()\n",
    "    RocCurveDisplay.from_estimator(model, x_test_scaled, y_test, ax=ax_roc)\n",
    "    plt.title(\"ROC Curve\")\n",
    "    plt.savefig(\"roc_curve.png\")\n",
    "    plt.close(fig_roc)\n",
    "    mlflow.log_artifact(\"roc_curve.png\")\n",
    "\n",
    "    # 7. Add useful tags\n",
    "    mlflow.set_tag(\"model_type\", \"xgboost\")\n",
    "    mlflow.set_tag(\"author\", \"put-your-name-or-id\")\n",
    "    mlflow.set_tag(\"purpose\", \"Churn prediction\")\n"
   ]
  }
 ],
 "metadata": {
  "kernelspec": {
   "display_name": "project_methodology",
   "language": "python",
   "name": "python3"
  },
  "language_info": {
   "codemirror_mode": {
    "name": "ipython",
    "version": 3
   },
   "file_extension": ".py",
   "mimetype": "text/x-python",
   "name": "python",
   "nbconvert_exporter": "python",
   "pygments_lexer": "ipython3",
   "version": "3.11.13"
  }
 },
 "nbformat": 4,
 "nbformat_minor": 5
}
